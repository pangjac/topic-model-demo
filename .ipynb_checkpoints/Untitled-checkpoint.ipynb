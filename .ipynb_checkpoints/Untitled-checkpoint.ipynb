{
 "cells": [
  {
   "cell_type": "code",
   "execution_count": 40,
   "metadata": {
    "collapsed": false
   },
   "outputs": [],
   "source": [
    "import simplejson\n",
    "import json\n",
    "from pprint import pprint\n",
    "\n",
    "\n",
    "with open('result.json') as data_file:    \n",
    "    data = json.load(data_file)"
   ]
  },
  {
   "cell_type": "code",
   "execution_count": 15,
   "metadata": {
    "collapsed": false
   },
   "outputs": [],
   "source": [
    "data_tmp={u'2015-09-02': {u'42': 3, u'43': 2, u'24': 4, u'25': 1, u'21': 62, u'48': 9, u'23': 56, u'46': 6, u'45': 3}, u'2015-11-19': {u'42': 20, u'43': 13, u'24': 41, u'25': 1, u'26': 15, u'27': 7, u'20': 16, u'21': 2, u'48': 23, u'49': 25, u'46': 10, u'47': 9, u'45': 7, u'28': 12, u'29': 4, u'41': 13, u'1': 24}}"
   ]
  },
  {
   "cell_type": "code",
   "execution_count": 16,
   "metadata": {
    "collapsed": false
   },
   "outputs": [
    {
     "name": "stdout",
     "output_type": "stream",
     "text": [
      "[u'2015-11-19', u'2015-09-02']\n"
     ]
    }
   ],
   "source": [
    "print data_tmp.keys()"
   ]
  },
  {
   "cell_type": "code",
   "execution_count": 41,
   "metadata": {
    "collapsed": false
   },
   "outputs": [],
   "source": [
    "dict_topics = {}\n",
    "for key,val in data.items(): # key - timestamp, k-topic, v- topicCount\n",
    "    for k, v in val.items():\n",
    "        if k in dict_topics.keys():\n",
    "            dict_topics.get(k).update({key:v})\n",
    "        else:\n",
    "            dict_topics.update({k:{key:v}}) "
   ]
  },
  {
   "cell_type": "code",
   "execution_count": 42,
   "metadata": {
    "collapsed": false
   },
   "outputs": [],
   "source": [
    "u24 = dict_topics.get(u'24')"
   ]
  },
  {
   "cell_type": "code",
   "execution_count": 43,
   "metadata": {
    "collapsed": false
   },
   "outputs": [
    {
     "name": "stdout",
     "output_type": "stream",
     "text": [
      "{u'2015-10-16': 6, u'2015-10-17': 6, u'2015-10-14': 62, u'2015-10-15': 27, u'2015-10-12': 45, u'2015-10-13': 2, u'2015-10-10': 2, u'2015-10-11': 3, u'2015-08-22': 1, u'2015-08-26': 2, u'2015-09-23': 3, u'2015-11-19': 41, u'2015-11-18': 7, u'2015-08-04': 1, u'2015-11-30': 25, u'2015-11-03': 54, u'2015-11-11': 5, u'2015-11-10': 11, u'2015-11-13': 1, u'2015-11-12': 2, u'2015-11-15': 12, u'2015-11-14': 1, u'2015-11-17': 58, u'2015-11-16': 6, u'2015-12-14': 1, u'2015-12-09': 1, u'2015-12-03': 1, u'2015-12-02': 1, u'2015-12-01': 6, u'2015-12-07': 2, u'2015-09-11': 1, u'2015-09-13': 2, u'2015-09-14': 1, u'2015-09-15': 1, u'2015-10-29': 5, u'2015-10-28': 13, u'2015-10-27': 73, u'2015-10-26': 13, u'2015-10-25': 14, u'2015-10-24': 1, u'2015-11-06': 1, u'2015-09-30': 27, u'2015-10-20': 69, u'2015-10-05': 15, u'2015-10-04': 1, u'2015-10-07': 3, u'2015-10-06': 1, u'2015-10-01': 118, u'2015-10-03': 4, u'2015-10-02': 12, u'2015-08-31': 1, u'2015-09-17': 2, u'2015-10-09': 12, u'2015-10-08': 187, u'2015-11-08': 1, u'2015-11-09': 56, u'2015-11-28': 3, u'2015-11-24': 4, u'2015-11-02': 8, u'2015-11-20': 2, u'2015-11-21': 3, u'2015-11-04': 73, u'2015-11-05': 178, u'2015-09-21': 19, u'2015-09-29': 5, u'2015-09-07': 4, u'2015-12-15': 2, u'2015-09-03': 1, u'2015-09-02': 4, u'2015-09-01': 2, u'2015-09-25': 24, u'2015-10-31': 2, u'2015-09-26': 4, u'2015-12-11': 1, u'2015-09-20': 2, u'2015-09-09': 3, u'2015-09-22': 40}\n"
     ]
    }
   ],
   "source": [
    "print u24"
   ]
  },
  {
   "cell_type": "code",
   "execution_count": 51,
   "metadata": {
    "collapsed": false
   },
   "outputs": [
    {
     "name": "stdout",
     "output_type": "stream",
     "text": [
      "(u'2015-10-16', 6)\n",
      "(u'2015-10-17', 6)\n",
      "(u'2015-10-14', 62)\n",
      "(u'2015-10-15', 27)\n",
      "(u'2015-10-12', 45)\n",
      "(u'2015-10-13', 2)\n",
      "(u'2015-10-10', 2)\n",
      "(u'2015-10-11', 3)\n",
      "(u'2015-08-22', 1)\n",
      "(u'2015-08-26', 2)\n",
      "(u'2015-09-23', 3)\n",
      "(u'2015-11-19', 41)\n",
      "(u'2015-11-18', 7)\n",
      "(u'2015-08-04', 1)\n",
      "(u'2015-11-30', 25)\n",
      "(u'2015-11-03', 54)\n",
      "(u'2015-11-11', 5)\n",
      "(u'2015-11-10', 11)\n",
      "(u'2015-11-13', 1)\n",
      "(u'2015-11-12', 2)\n",
      "(u'2015-11-15', 12)\n",
      "(u'2015-11-14', 1)\n",
      "(u'2015-11-17', 58)\n",
      "(u'2015-11-16', 6)\n",
      "(u'2015-12-14', 1)\n",
      "(u'2015-12-09', 1)\n",
      "(u'2015-12-03', 1)\n",
      "(u'2015-12-02', 1)\n",
      "(u'2015-12-01', 6)\n",
      "(u'2015-12-07', 2)\n",
      "(u'2015-09-11', 1)\n",
      "(u'2015-09-13', 2)\n",
      "(u'2015-09-14', 1)\n",
      "(u'2015-09-15', 1)\n",
      "(u'2015-10-29', 5)\n",
      "(u'2015-10-28', 13)\n",
      "(u'2015-10-27', 73)\n",
      "(u'2015-10-26', 13)\n",
      "(u'2015-10-25', 14)\n",
      "(u'2015-10-24', 1)\n",
      "(u'2015-11-06', 1)\n",
      "(u'2015-09-30', 27)\n",
      "(u'2015-10-20', 69)\n",
      "(u'2015-10-05', 15)\n",
      "(u'2015-10-04', 1)\n",
      "(u'2015-10-07', 3)\n",
      "(u'2015-10-06', 1)\n",
      "(u'2015-10-01', 118)\n",
      "(u'2015-10-03', 4)\n",
      "(u'2015-10-02', 12)\n",
      "(u'2015-08-31', 1)\n",
      "(u'2015-09-17', 2)\n",
      "(u'2015-10-09', 12)\n",
      "(u'2015-10-08', 187)\n",
      "(u'2015-11-08', 1)\n",
      "(u'2015-11-09', 56)\n",
      "(u'2015-11-28', 3)\n",
      "(u'2015-11-24', 4)\n",
      "(u'2015-11-02', 8)\n",
      "(u'2015-11-20', 2)\n",
      "(u'2015-11-21', 3)\n",
      "(u'2015-11-04', 73)\n",
      "(u'2015-11-05', 178)\n",
      "(u'2015-09-21', 19)\n",
      "(u'2015-09-29', 5)\n",
      "(u'2015-09-07', 4)\n",
      "(u'2015-12-15', 2)\n",
      "(u'2015-09-03', 1)\n",
      "(u'2015-09-02', 4)\n",
      "(u'2015-09-01', 2)\n",
      "(u'2015-09-25', 24)\n",
      "(u'2015-10-31', 2)\n",
      "(u'2015-09-26', 4)\n",
      "(u'2015-12-11', 1)\n",
      "(u'2015-09-20', 2)\n",
      "(u'2015-09-09', 3)\n",
      "(u'2015-09-22', 40)\n"
     ]
    }
   ],
   "source": [
    "for item in u24.items():\n",
    "    print item\n",
    "    item_dict = {}\n",
    "    item_dict.update({\"date\":item[0]})\n",
    "    item_dict.update({\"value\":item[1]})"
   ]
  },
  {
   "cell_type": "code",
   "execution_count": 89,
   "metadata": {
    "collapsed": true
   },
   "outputs": [],
   "source": [
    "def convert_topic(topic_num, origin_dict):\n",
    "    dict_topics = {}\n",
    "    for key,val in origin_dict.items(): # key - timestamp, k-topic, v- topicCount\n",
    "        for k, v in val.items():\n",
    "            if k in dict_topics.keys():\n",
    "                dict_topics.get(k).update({key:v})\n",
    "            else:\n",
    "                dict_topics.update({k:{key:v}}) \n",
    "    topic_dict = dict_topics.get(topic_num)\n",
    "    \n",
    "    return_dict ={}\n",
    "    for item in topic_dict.items():\n",
    "        item_dict = {}\n",
    "        item_dict.update({\"date\":item[0]})\n",
    "        item_dict.update({\"value\":item[1]})\n",
    "        print '######', item_dict\n",
    "        print '@@@@@@@',return_dict\n",
    "        return_dict.update(item_dict)\n",
    "        print '!!!!!!',return_dict\n",
    "        \n",
    "    print return_dict\n",
    "    return json.dumps(return_dict)\n",
    "    "
   ]
  },
  {
   "cell_type": "code",
   "execution_count": 90,
   "metadata": {
    "collapsed": false
   },
   "outputs": [
    {
     "name": "stdout",
     "output_type": "stream",
     "text": [
      "{'date': u'2015-09-22', 'value': 40}\n"
     ]
    }
   ],
   "source": [
    "tmp = convert_topic(u'24',data)"
   ]
  },
  {
   "cell_type": "code",
   "execution_count": 67,
   "metadata": {
    "collapsed": false
   },
   "outputs": [
    {
     "name": "stdout",
     "output_type": "stream",
     "text": [
      "{\"date\": \"2015-09-22\", \"value\": 40}\n"
     ]
    }
   ],
   "source": [
    "print tmp"
   ]
  },
  {
   "cell_type": "code",
   "execution_count": 66,
   "metadata": {
    "collapsed": false
   },
   "outputs": [
    {
     "name": "stdout",
     "output_type": "stream",
     "text": [
      "35\n"
     ]
    }
   ],
   "source": [
    "print len(tmp)"
   ]
  },
  {
   "cell_type": "code",
   "execution_count": 37,
   "metadata": {
    "collapsed": true
   },
   "outputs": [],
   "source": [
    "def put(data, filename):\n",
    "    try:\n",
    "        jsondata = simplejson.dumps(data, indent=4, skipkeys=True, sort_keys=True)\n",
    "        fd = open(filename, 'w')\n",
    "        fd.write(jsondata)\n",
    "        fd.close()\n",
    "    except:\n",
    "        print 'ERROR writing', filename\n",
    "        pass"
   ]
  },
  {
   "cell_type": "code",
   "execution_count": 39,
   "metadata": {
    "collapsed": false
   },
   "outputs": [],
   "source": [
    "put(tmp,'u24')"
   ]
  },
  {
   "cell_type": "code",
   "execution_count": null,
   "metadata": {
    "collapsed": true
   },
   "outputs": [],
   "source": []
  }
 ],
 "metadata": {
  "kernelspec": {
   "display_name": "Python 2",
   "language": "python",
   "name": "python2"
  },
  "language_info": {
   "codemirror_mode": {
    "name": "ipython",
    "version": 2
   },
   "file_extension": ".py",
   "mimetype": "text/x-python",
   "name": "python",
   "nbconvert_exporter": "python",
   "pygments_lexer": "ipython2",
   "version": "2.7.10"
  }
 },
 "nbformat": 4,
 "nbformat_minor": 0
}
